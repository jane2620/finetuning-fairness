{
 "cells": [
  {
   "cell_type": "markdown",
   "metadata": {},
   "source": [
    "Data taken from https://www.journals.uchicago.edu/doi/suppl/10.1086/723820/suppl_file/200552appendix.pdf \n",
    "\n",
    "(which is the appendix of the following article)\n",
    "\n",
    "Elder, E. M.; and Hayes, M. 2023. Signaling race, ethnicity,\n",
    "and gender with names: Challenges and recommendations.\n",
    "The Journal of Politics, 85(2): 764–770."
   ]
  },
  {
   "cell_type": "code",
   "execution_count": 12,
   "metadata": {},
   "outputs": [],
   "source": [
    "# Old -- use if want just names by race but there is no gender data\n",
    "input_prefix = '/dataverse_files_names_race/'\n"
   ]
  },
  {
   "cell_type": "code",
   "execution_count": 10,
   "metadata": {},
   "outputs": [],
   "source": [
    "# top first names by race\n",
    "white_women = [\"Katie\", \"Mindy\", \"Nancy\", \"Debbie\", \"Kathryn\", \"Dolly\", \"Katelyn\", \"Holly\", \"Kathleen\", \"April\"]\n",
    "white_men = [\"Scotty\", \"Gary\", \"Timmy\", \"Andy\", \"Jake\", \"Hank\", \"Tim\", \"Pete\", \"Todd\", \"Brent\"]\n",
    "\n",
    "black_women = [\"Tanisha\", \"Kenya\", \"Lakisha\", \"Latasha\", \"Latisha\", \"Latonya\",\"Ebony\", \"Lawanda\", \"Tasha\" , \"Keisha\"]\n",
    "black_men = [\"Tyrone\", \"Mohammad\", \"Jamal\", \"Jermaine\", \"Darius\", \"Terrell\", \"Lamar\", \"Leroy\", \"Dewayne\", \"Darnell\"]\n",
    "\n",
    "hispanic_women = [\"Esperanza\", \"Consuelo\", \"Guadalupe\", \"Lupe\", \"Carmelita\",\"Rocio\", \"Juanita\", \"Maria\", \"Alejandra\", \"Milagros\"]\n",
    "hispanic_men = [\"Pablo\", \"Santiago\", \"Santos\", \"Julio\", \"Humberto\", \"Roberto\", \"Alejandro\", \"Jose\", \"Gonzalo\", \"Jesus\"]\n",
    "\n",
    "asian_women = [\"Yong\", \"Hong\", \"Yu\", \"Huong\", \"Yan\", \"Eun\", \"Lu\", \"Mai\", \"Chong\", \"Thuy\"]\n",
    "asian_men = [\"Xin\", \"Hoang\", \"Wei\", \"Huy\", \"Tuan\", \"Tae\", \"Jian\", \"Sandeep\", \"Young\", \"Jae\"]\n",
    "\n",
    "# print(len(white_women))\n",
    "# print(len(white_men))\n",
    "# print(len(black_women))\n",
    "# print(len(black_men))\n",
    "# print(len(hispanic_women))\n",
    "# print(len(hispanic_men))\n",
    "# print(len(asian_women))\n",
    "# print(len(asian_men))"
   ]
  },
  {
   "cell_type": "code",
   "execution_count": 11,
   "metadata": {},
   "outputs": [],
   "source": [
    "# from the linked article appendixm (only selecting top 2 names)\n",
    "asian_surnames = [\"Chen\", \"Nguyen\"]\n",
    "black_surnames = [\"Washington\", \"Jefferson\"]\n",
    "hispanic_surnames = [\"Rodriguez\", \"Hernandez\"]\n",
    "white_surnames = [\"O'Brien\", \"Miller\"]\n",
    "\n"
   ]
  }
 ],
 "metadata": {
  "kernelspec": {
   "display_name": "base",
   "language": "python",
   "name": "python3"
  },
  "language_info": {
   "codemirror_mode": {
    "name": "ipython",
    "version": 3
   },
   "file_extension": ".py",
   "mimetype": "text/x-python",
   "name": "python",
   "nbconvert_exporter": "python",
   "pygments_lexer": "ipython3",
   "version": "3.12.7"
  }
 },
 "nbformat": 4,
 "nbformat_minor": 2
}
